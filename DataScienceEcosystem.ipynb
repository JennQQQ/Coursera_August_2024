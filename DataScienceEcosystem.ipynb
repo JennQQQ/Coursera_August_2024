{
 "cells": [
  {
   "cell_type": "markdown",
   "id": "ff671c9d-2e38-4861-861c-d07034a59493",
   "metadata": {},
   "source": [
    "# Data Science Tools and Ecosystem\n",
    "\n",
    "In this notebook, Data Science Tools and Ecosystem are summarized.\n",
    "\n",
    "**Objectives**:\n",
    "\n",
    "- Popular Languages that Data Scientists use\n",
    "- Commonly used libraries used by Data Scientists\n",
    "- Data Science Tools\n",
    "\n",
    "Some of the popular languages that Data Scientists use are:\n",
    "<ol>\n",
    "<li>Python</li>\n",
    "<li>R</li>\n",
    "<li>Julia</li>\n",
    "</ol>\n",
    "\n",
    "Some of the commonly used libraries used by Data Scientists include:\n",
    "<ol>\n",
    "    <li>ScikitLearn</li>\n",
    "    <li>Pandas</li>\n",
    "    <li>NumPy</li>\n",
    "</ol>\n",
    "\n",
    "|Data Science Tools|\n",
    "|---|\n",
    "RStudio\n",
    "Apache Spark\n",
    "TensorFlow\n",
    "\n",
    "### Below are a few examples of evaluating arithmetic expressions in Python"
   ]
  },
  {
   "cell_type": "code",
   "execution_count": 1,
   "id": "d8fa7daa-8ab6-452e-8817-4189275ec638",
   "metadata": {
    "tags": []
   },
   "outputs": [
    {
     "data": {
      "text/plain": [
       "17"
      ]
     },
     "execution_count": 1,
     "metadata": {},
     "output_type": "execute_result"
    }
   ],
   "source": [
    "3*4+5\n",
    "#This a simple arithmetic expression to mutiply then add integers."
   ]
  },
  {
   "cell_type": "code",
   "execution_count": 2,
   "id": "8eab3772-24fc-4c02-a9d5-521e51106096",
   "metadata": {
    "tags": []
   },
   "outputs": [
    {
     "data": {
      "text/plain": [
       "3.3333333333333335"
      ]
     },
     "execution_count": 2,
     "metadata": {},
     "output_type": "execute_result"
    }
   ],
   "source": [
    "200/60\n",
    "#This will convert 200 minutes to hours by diving by 60"
   ]
  },
  {
   "cell_type": "markdown",
   "id": "99cbee8b-a4ca-469c-af60-f77878a4fb1e",
   "metadata": {},
   "source": [
    "## Author\n",
    "Jenn Q."
   ]
  }
 ],
 "metadata": {
  "kernelspec": {
   "display_name": "Python",
   "language": "python",
   "name": "conda-env-python-py"
  },
  "language_info": {
   "codemirror_mode": {
    "name": "ipython",
    "version": 3
   },
   "file_extension": ".py",
   "mimetype": "text/x-python",
   "name": "python",
   "nbconvert_exporter": "python",
   "pygments_lexer": "ipython3",
   "version": "3.7.12"
  }
 },
 "nbformat": 4,
 "nbformat_minor": 5
}
